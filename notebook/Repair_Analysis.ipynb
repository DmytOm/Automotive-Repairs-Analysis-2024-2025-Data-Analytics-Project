{
 "cells": [
  {
   "cell_type": "markdown",
   "metadata": {},
   "source": [
    "# Automotive Repair Analysis (2024–2025)\n",
    "\n",
    "## Мета\n",
    "Оцінити ефективність роботи СТО, виявити відмінності між B2B і B2C клієнтами, а також виявити затримки, нестабільні процеси та сезонні тренди.\n",
    "\n",
    "## Джерело даних\n",
    "- Вивантаження з CRM: `repairs_2024.csv` + `repairs_2025.csv`\n",
    "- Кількість записів: понад 60 тис.\n",
    "- Поля: статус, дата створення/видачі, сервіс, послуга, тип клієнта (корпоративний/фізична особа)\n",
    "\n",
    "## Кроки обробки\n",
    "- Об'єднання датасетів;\n",
    "- Створення коректної `дата_видачі`;\n",
    "- Розрахунок `тривалість_днів`;\n",
    "- Визначення регіону, місяця, року;\n",
    "- Побудова аналітичних графіків.\n",
    "\n",
    "---\n",
    "\n",
    "## Основні графіки\n",
    "\n",
    "### 1. Динаміка ремонтів по регіонах (2024 vs 2025)\n",
    "\n",
    "### 2. % зміна кількості ремонтів (2025 vs 2024) по місяцях і типу клієнта\n",
    "\n",
    "### 3. Середня тривалість ремонту по типу послуги\n",
    "\n",
    "### 4. Boxplot: розподіл тривалості ремонтів по послугах\n",
    "\n",
    "\n",
    "---\n",
    "\n",
    "## Висновки\n",
    "\n",
    "- Послуги з високою тривалістю: **ДВЗ, МКПП, Паливна** - понад 20 днів;\n",
    "- Послуги з низькою стабільністю: **Карданний вал, Маховик** - великий розкид;\n",
    "- Аномалії у \"Діагностика\" - ймовірне порушення у CRM (статус оновлюється неправильно);\n",
    "- B2B-ремонти часто виконуються повільніше - потребують SLA та регламенту."
   ]
  },
  {
   "cell_type": "code",
   "execution_count": 1,
   "metadata": {},
   "outputs": [],
   "source": [
    "import pandas as pd\n",
    "import seaborn as sns\n",
    "import matplotlib.pyplot as plt"
   ]
  },
  {
   "cell_type": "code",
   "execution_count": 2,
   "metadata": {},
   "outputs": [],
   "source": [
    "data_2024 = pd.read_csv('../data/repairs_2024.csv')\n",
    "data_2025 = pd.read_csv('../data/repairs_2025.csv')"
   ]
  },
  {
   "cell_type": "code",
   "execution_count": 3,
   "metadata": {},
   "outputs": [],
   "source": [
    "repairs_2024 = data_2024.copy()\n",
    "repairs_2025 = data_2025.copy()"
   ]
  },
  {
   "cell_type": "code",
   "execution_count": 4,
   "metadata": {},
   "outputs": [
    {
     "data": {
      "text/plain": [
       "(42325, 10)"
      ]
     },
     "execution_count": 4,
     "metadata": {},
     "output_type": "execute_result"
    }
   ],
   "source": [
    "repairs_2024.shape"
   ]
  },
  {
   "cell_type": "code",
   "execution_count": 5,
   "metadata": {},
   "outputs": [
    {
     "data": {
      "text/plain": [
       "(18044, 10)"
      ]
     },
     "execution_count": 5,
     "metadata": {},
     "output_type": "execute_result"
    }
   ],
   "source": [
    "repairs_2025.shape"
   ]
  },
  {
   "cell_type": "code",
   "execution_count": 6,
   "metadata": {},
   "outputs": [
    {
     "data": {
      "text/html": [
       "<div>\n",
       "<style scoped>\n",
       "    .dataframe tbody tr th:only-of-type {\n",
       "        vertical-align: middle;\n",
       "    }\n",
       "\n",
       "    .dataframe tbody tr th {\n",
       "        vertical-align: top;\n",
       "    }\n",
       "\n",
       "    .dataframe thead th {\n",
       "        text-align: right;\n",
       "    }\n",
       "</style>\n",
       "<table border=\"1\" class=\"dataframe\">\n",
       "  <thead>\n",
       "    <tr style=\"text-align: right;\">\n",
       "      <th></th>\n",
       "      <th>Назва</th>\n",
       "      <th>Дата створення</th>\n",
       "      <th>Дата змінення</th>\n",
       "      <th>Сервіс ремонту</th>\n",
       "      <th>Статус</th>\n",
       "      <th>Сервіс</th>\n",
       "      <th>Дата розрахунку</th>\n",
       "      <th>Співпрацю відновлено</th>\n",
       "      <th>Послуга</th>\n",
       "      <th>Корпоративний клієнт</th>\n",
       "    </tr>\n",
       "  </thead>\n",
       "  <tbody>\n",
       "    <tr>\n",
       "      <th>0</th>\n",
       "      <td>V4OK</td>\n",
       "      <td>2024-09-17 14:24:13</td>\n",
       "      <td>2025-03-18 09:27:24</td>\n",
       "      <td>NaN</td>\n",
       "      <td>NaN</td>\n",
       "      <td>Київ 2</td>\n",
       "      <td>NaN</td>\n",
       "      <td>Ні</td>\n",
       "      <td>Карданний вал</td>\n",
       "      <td>Ні</td>\n",
       "    </tr>\n",
       "    <tr>\n",
       "      <th>1</th>\n",
       "      <td>S3444KI</td>\n",
       "      <td>2024-07-01 18:40:13</td>\n",
       "      <td>2025-02-28 10:45:40</td>\n",
       "      <td>NaN</td>\n",
       "      <td>Архів</td>\n",
       "      <td>Київ</td>\n",
       "      <td>2025-02-28</td>\n",
       "      <td>Ні</td>\n",
       "      <td>Сажа</td>\n",
       "      <td>Ні</td>\n",
       "    </tr>\n",
       "    <tr>\n",
       "      <th>2</th>\n",
       "      <td>P3281KI</td>\n",
       "      <td>2024-01-02 12:54:37</td>\n",
       "      <td>2024-01-30 22:49:07</td>\n",
       "      <td>NaN</td>\n",
       "      <td>Архів</td>\n",
       "      <td>Київ</td>\n",
       "      <td>NaN</td>\n",
       "      <td>Ні</td>\n",
       "      <td>Паливна</td>\n",
       "      <td>Ні</td>\n",
       "    </tr>\n",
       "    <tr>\n",
       "      <th>3</th>\n",
       "      <td>S592LV</td>\n",
       "      <td>2024-02-07 11:57:31</td>\n",
       "      <td>2024-03-19 18:50:31</td>\n",
       "      <td>NaN</td>\n",
       "      <td>Архів</td>\n",
       "      <td>Львів</td>\n",
       "      <td>NaN</td>\n",
       "      <td>Ні</td>\n",
       "      <td>Сажа</td>\n",
       "      <td>Ні</td>\n",
       "    </tr>\n",
       "    <tr>\n",
       "      <th>4</th>\n",
       "      <td>RE-R102AIF</td>\n",
       "      <td>2024-02-27 13:12:24</td>\n",
       "      <td>2024-03-16 12:33:40</td>\n",
       "      <td>NaN</td>\n",
       "      <td>Архів</td>\n",
       "      <td>A Івано-Франківськ</td>\n",
       "      <td>NaN</td>\n",
       "      <td>Ні</td>\n",
       "      <td>Рульова рейка</td>\n",
       "      <td>Ні</td>\n",
       "    </tr>\n",
       "  </tbody>\n",
       "</table>\n",
       "</div>"
      ],
      "text/plain": [
       "        Назва       Дата створення        Дата змінення  Сервіс ремонту  \\\n",
       "0        V4OK  2024-09-17 14:24:13  2025-03-18 09:27:24             NaN   \n",
       "1     S3444KI  2024-07-01 18:40:13  2025-02-28 10:45:40             NaN   \n",
       "2     P3281KI  2024-01-02 12:54:37  2024-01-30 22:49:07             NaN   \n",
       "3      S592LV  2024-02-07 11:57:31  2024-03-19 18:50:31             NaN   \n",
       "4  RE-R102AIF  2024-02-27 13:12:24  2024-03-16 12:33:40             NaN   \n",
       "\n",
       "  Статус              Сервіс Дата розрахунку Співпрацю відновлено  \\\n",
       "0    NaN              Київ 2             NaN                   Ні   \n",
       "1  Архів                Київ      2025-02-28                   Ні   \n",
       "2  Архів                Київ             NaN                   Ні   \n",
       "3  Архів               Львів             NaN                   Ні   \n",
       "4  Архів  A Івано-Франківськ             NaN                   Ні   \n",
       "\n",
       "         Послуга Корпоративний клієнт  \n",
       "0  Карданний вал                   Ні  \n",
       "1           Сажа                   Ні  \n",
       "2        Паливна                   Ні  \n",
       "3           Сажа                   Ні  \n",
       "4  Рульова рейка                   Ні  "
      ]
     },
     "execution_count": 6,
     "metadata": {},
     "output_type": "execute_result"
    }
   ],
   "source": [
    "repairs_2024.head()"
   ]
  },
  {
   "cell_type": "code",
   "execution_count": 7,
   "metadata": {},
   "outputs": [
    {
     "name": "stdout",
     "output_type": "stream",
     "text": [
      "<class 'pandas.core.frame.DataFrame'>\n",
      "RangeIndex: 42325 entries, 0 to 42324\n",
      "Data columns (total 10 columns):\n",
      " #   Column                Non-Null Count  Dtype  \n",
      "---  ------                --------------  -----  \n",
      " 0   Назва                 42325 non-null  object \n",
      " 1   Дата створення        42325 non-null  object \n",
      " 2   Дата змінення         42325 non-null  object \n",
      " 3   Сервіс ремонту        0 non-null      float64\n",
      " 4   Статус                42324 non-null  object \n",
      " 5   Сервіс                42301 non-null  object \n",
      " 6   Дата розрахунку       37211 non-null  object \n",
      " 7   Співпрацю відновлено  42325 non-null  object \n",
      " 8   Послуга               42320 non-null  object \n",
      " 9   Корпоративний клієнт  42325 non-null  object \n",
      "dtypes: float64(1), object(9)\n",
      "memory usage: 3.2+ MB\n"
     ]
    }
   ],
   "source": [
    "repairs_2024.info()"
   ]
  },
  {
   "cell_type": "code",
   "execution_count": 8,
   "metadata": {},
   "outputs": [],
   "source": [
    "repairs_2024.columns = repairs_2024.columns.str.strip(\n",
    ").str.lower().str.replace(' ', '_')\n",
    "repairs_2025.columns = repairs_2024.columns.str.strip(\n",
    ").str.lower().str.replace(' ', '_')"
   ]
  },
  {
   "cell_type": "code",
   "execution_count": 9,
   "metadata": {},
   "outputs": [],
   "source": [
    "repairs_all = pd.concat([repairs_2024, repairs_2025], ignore_index=True)"
   ]
  },
  {
   "cell_type": "code",
   "execution_count": 10,
   "metadata": {},
   "outputs": [
    {
     "data": {
      "text/html": [
       "<div>\n",
       "<style scoped>\n",
       "    .dataframe tbody tr th:only-of-type {\n",
       "        vertical-align: middle;\n",
       "    }\n",
       "\n",
       "    .dataframe tbody tr th {\n",
       "        vertical-align: top;\n",
       "    }\n",
       "\n",
       "    .dataframe thead th {\n",
       "        text-align: right;\n",
       "    }\n",
       "</style>\n",
       "<table border=\"1\" class=\"dataframe\">\n",
       "  <thead>\n",
       "    <tr style=\"text-align: right;\">\n",
       "      <th></th>\n",
       "      <th>назва</th>\n",
       "      <th>дата_створення</th>\n",
       "      <th>дата_змінення</th>\n",
       "      <th>сервіс_ремонту</th>\n",
       "      <th>статус</th>\n",
       "      <th>сервіс</th>\n",
       "      <th>дата_розрахунку</th>\n",
       "      <th>співпрацю_відновлено</th>\n",
       "      <th>послуга</th>\n",
       "      <th>корпоративний_клієнт</th>\n",
       "    </tr>\n",
       "  </thead>\n",
       "  <tbody>\n",
       "    <tr>\n",
       "      <th>0</th>\n",
       "      <td>V4OK</td>\n",
       "      <td>2024-09-17 14:24:13</td>\n",
       "      <td>2025-03-18 09:27:24</td>\n",
       "      <td>NaN</td>\n",
       "      <td>NaN</td>\n",
       "      <td>Київ 2</td>\n",
       "      <td>NaN</td>\n",
       "      <td>Ні</td>\n",
       "      <td>Карданний вал</td>\n",
       "      <td>Ні</td>\n",
       "    </tr>\n",
       "    <tr>\n",
       "      <th>1</th>\n",
       "      <td>S3444KI</td>\n",
       "      <td>2024-07-01 18:40:13</td>\n",
       "      <td>2025-02-28 10:45:40</td>\n",
       "      <td>NaN</td>\n",
       "      <td>Архів</td>\n",
       "      <td>Київ</td>\n",
       "      <td>2025-02-28</td>\n",
       "      <td>Ні</td>\n",
       "      <td>Сажа</td>\n",
       "      <td>Ні</td>\n",
       "    </tr>\n",
       "    <tr>\n",
       "      <th>2</th>\n",
       "      <td>P3281KI</td>\n",
       "      <td>2024-01-02 12:54:37</td>\n",
       "      <td>2024-01-30 22:49:07</td>\n",
       "      <td>NaN</td>\n",
       "      <td>Архів</td>\n",
       "      <td>Київ</td>\n",
       "      <td>NaN</td>\n",
       "      <td>Ні</td>\n",
       "      <td>Паливна</td>\n",
       "      <td>Ні</td>\n",
       "    </tr>\n",
       "    <tr>\n",
       "      <th>3</th>\n",
       "      <td>S592LV</td>\n",
       "      <td>2024-02-07 11:57:31</td>\n",
       "      <td>2024-03-19 18:50:31</td>\n",
       "      <td>NaN</td>\n",
       "      <td>Архів</td>\n",
       "      <td>Львів</td>\n",
       "      <td>NaN</td>\n",
       "      <td>Ні</td>\n",
       "      <td>Сажа</td>\n",
       "      <td>Ні</td>\n",
       "    </tr>\n",
       "    <tr>\n",
       "      <th>4</th>\n",
       "      <td>RE-R102AIF</td>\n",
       "      <td>2024-02-27 13:12:24</td>\n",
       "      <td>2024-03-16 12:33:40</td>\n",
       "      <td>NaN</td>\n",
       "      <td>Архів</td>\n",
       "      <td>A Івано-Франківськ</td>\n",
       "      <td>NaN</td>\n",
       "      <td>Ні</td>\n",
       "      <td>Рульова рейка</td>\n",
       "      <td>Ні</td>\n",
       "    </tr>\n",
       "  </tbody>\n",
       "</table>\n",
       "</div>"
      ],
      "text/plain": [
       "        назва       дата_створення        дата_змінення  сервіс_ремонту  \\\n",
       "0        V4OK  2024-09-17 14:24:13  2025-03-18 09:27:24             NaN   \n",
       "1     S3444KI  2024-07-01 18:40:13  2025-02-28 10:45:40             NaN   \n",
       "2     P3281KI  2024-01-02 12:54:37  2024-01-30 22:49:07             NaN   \n",
       "3      S592LV  2024-02-07 11:57:31  2024-03-19 18:50:31             NaN   \n",
       "4  RE-R102AIF  2024-02-27 13:12:24  2024-03-16 12:33:40             NaN   \n",
       "\n",
       "  статус              сервіс дата_розрахунку співпрацю_відновлено  \\\n",
       "0    NaN              Київ 2             NaN                   Ні   \n",
       "1  Архів                Київ      2025-02-28                   Ні   \n",
       "2  Архів                Київ             NaN                   Ні   \n",
       "3  Архів               Львів             NaN                   Ні   \n",
       "4  Архів  A Івано-Франківськ             NaN                   Ні   \n",
       "\n",
       "         послуга корпоративний_клієнт  \n",
       "0  Карданний вал                   Ні  \n",
       "1           Сажа                   Ні  \n",
       "2        Паливна                   Ні  \n",
       "3           Сажа                   Ні  \n",
       "4  Рульова рейка                   Ні  "
      ]
     },
     "execution_count": 10,
     "metadata": {},
     "output_type": "execute_result"
    }
   ],
   "source": [
    "repairs_all.head()"
   ]
  },
  {
   "cell_type": "code",
   "execution_count": 11,
   "metadata": {},
   "outputs": [
    {
     "name": "stdout",
     "output_type": "stream",
     "text": [
      "<class 'pandas.core.frame.DataFrame'>\n",
      "RangeIndex: 60369 entries, 0 to 60368\n",
      "Data columns (total 10 columns):\n",
      " #   Column                Non-Null Count  Dtype  \n",
      "---  ------                --------------  -----  \n",
      " 0   назва                 60348 non-null  object \n",
      " 1   дата_створення        60369 non-null  object \n",
      " 2   дата_змінення         60369 non-null  object \n",
      " 3   сервіс_ремонту        0 non-null      float64\n",
      " 4   статус                60366 non-null  object \n",
      " 5   сервіс                60315 non-null  object \n",
      " 6   дата_розрахунку       51688 non-null  object \n",
      " 7   співпрацю_відновлено  60369 non-null  object \n",
      " 8   послуга               60356 non-null  object \n",
      " 9   корпоративний_клієнт  60369 non-null  object \n",
      "dtypes: float64(1), object(9)\n",
      "memory usage: 4.6+ MB\n"
     ]
    }
   ],
   "source": [
    "repairs_all.info()"
   ]
  },
  {
   "cell_type": "code",
   "execution_count": 12,
   "metadata": {},
   "outputs": [],
   "source": [
    "repairs_all.drop(columns=['сервіс_ремонту'], inplace=True)\n",
    "# Видалив колонку, де всі значення NaN"
   ]
  },
  {
   "cell_type": "code",
   "execution_count": 13,
   "metadata": {},
   "outputs": [],
   "source": [
    "repairs_all['дата_створення'] = pd.to_datetime(\n",
    "    repairs_all['дата_створення'], errors='coerce')\n",
    "repairs_all['дата_змінення'] = pd.to_datetime(\n",
    "    repairs_all['дата_змінення'], errors='coerce')\n",
    "repairs_all['дата_розрахунку'] = pd.to_datetime(\n",
    "    repairs_all['дата_розрахунку'], errors='coerce')\n",
    "# Перетворив на тип даних: datetime, для подальшого аналізу з часовими рядами"
   ]
  },
  {
   "cell_type": "code",
   "execution_count": 14,
   "metadata": {},
   "outputs": [
    {
     "name": "stdout",
     "output_type": "stream",
     "text": [
      "<class 'pandas.core.frame.DataFrame'>\n",
      "RangeIndex: 60369 entries, 0 to 60368\n",
      "Data columns (total 9 columns):\n",
      " #   Column                Non-Null Count  Dtype         \n",
      "---  ------                --------------  -----         \n",
      " 0   назва                 60348 non-null  object        \n",
      " 1   дата_створення        60369 non-null  datetime64[ns]\n",
      " 2   дата_змінення         60369 non-null  datetime64[ns]\n",
      " 3   статус                60366 non-null  object        \n",
      " 4   сервіс                60315 non-null  object        \n",
      " 5   дата_розрахунку       51688 non-null  datetime64[ns]\n",
      " 6   співпрацю_відновлено  60369 non-null  object        \n",
      " 7   послуга               60356 non-null  object        \n",
      " 8   корпоративний_клієнт  60369 non-null  object        \n",
      "dtypes: datetime64[ns](3), object(6)\n",
      "memory usage: 4.1+ MB\n"
     ]
    }
   ],
   "source": [
    "repairs_all.info()"
   ]
  },
  {
   "cell_type": "code",
   "execution_count": 15,
   "metadata": {},
   "outputs": [],
   "source": [
    "repairs_all['корпоративний_клієнт'] = repairs_all['корпоративний_клієнт'].map({\n",
    "                                                                              'Так': True, 'Ні': False})\n",
    "repairs_all['співпрацю_відновлено'] = repairs_all['співпрацю_відновлено'].map({\n",
    "                                                                              'Так': True, 'Ні': False})\n",
    "# Перетворив до булевих типів для подальшого аналізу"
   ]
  },
  {
   "cell_type": "code",
   "execution_count": 16,
   "metadata": {},
   "outputs": [
    {
     "name": "stdout",
     "output_type": "stream",
     "text": [
      "<class 'pandas.core.frame.DataFrame'>\n",
      "RangeIndex: 60369 entries, 0 to 60368\n",
      "Data columns (total 9 columns):\n",
      " #   Column                Non-Null Count  Dtype         \n",
      "---  ------                --------------  -----         \n",
      " 0   назва                 60348 non-null  object        \n",
      " 1   дата_створення        60369 non-null  datetime64[ns]\n",
      " 2   дата_змінення         60369 non-null  datetime64[ns]\n",
      " 3   статус                60366 non-null  object        \n",
      " 4   сервіс                60315 non-null  object        \n",
      " 5   дата_розрахунку       51688 non-null  datetime64[ns]\n",
      " 6   співпрацю_відновлено  60369 non-null  bool          \n",
      " 7   послуга               60356 non-null  object        \n",
      " 8   корпоративний_клієнт  60369 non-null  bool          \n",
      "dtypes: bool(2), datetime64[ns](3), object(4)\n",
      "memory usage: 3.3+ MB\n"
     ]
    }
   ],
   "source": [
    "repairs_all.info()"
   ]
  },
  {
   "cell_type": "markdown",
   "metadata": {},
   "source": [
    "## Фільтрація завершених ремонтів\n",
    "\n",
    "Для аналізу ефективності обслуговування ми розглядаємо тільки ті ремонти, які були **повністю виконані**. Вони мають один з таких статусів:\n",
    "\n",
    "- **`Розрахунок`** – ремонт завершено, клієнт сплатив і забрав автомобіль;\n",
    "- **`Видано(корп. клієнт)`** – автомобіль видано корпоративному клієнту з післяоплатою.\n",
    "\n",
    "Це дозволяє зосередитись лише на завершених кейсах, оцінити час виконання, відповідність SLA та проаналізувати повернення.\n"
   ]
  },
  {
   "cell_type": "code",
   "execution_count": 17,
   "metadata": {},
   "outputs": [
    {
     "data": {
      "text/plain": [
       "array([nan, 'Архів', 'Видано(корп. клієнт)', 'Відмова', 'В роботі',\n",
       "       'Готовність агрегата', 'Готово до видачі', 'Дефектування',\n",
       "       'Діагностика', 'Дубль', 'Збиткова угода', 'Не ремонтується',\n",
       "       'Очікування запчастин', 'Прийняття рішення/Думає',\n",
       "       'Проблемна угода', 'Розраховано відмову', 'Розрахунок', 'Склад',\n",
       "       'Дефектування у підрядника', 'Дефектування Цех',\n",
       "       'Замовити запчастини', 'Очікування передплати', 'Підбір запчастин',\n",
       "       'Погодження з клієнтом', 'Прийнято сервісом'], dtype=object)"
      ]
     },
     "execution_count": 17,
     "metadata": {},
     "output_type": "execute_result"
    }
   ],
   "source": [
    "repairs_all['статус'].unique()"
   ]
  },
  {
   "cell_type": "code",
   "execution_count": 18,
   "metadata": {},
   "outputs": [],
   "source": [
    "ready_repairs = repairs_all[(repairs_all['статус'] == 'Розрахунок') | (\n",
    "    repairs_all['статус'] == 'Видано(корп. клієнт)')]"
   ]
  },
  {
   "cell_type": "code",
   "execution_count": 19,
   "metadata": {},
   "outputs": [
    {
     "name": "stdout",
     "output_type": "stream",
     "text": [
      "<class 'pandas.core.frame.DataFrame'>\n",
      "Index: 41647 entries, 11 to 59556\n",
      "Data columns (total 9 columns):\n",
      " #   Column                Non-Null Count  Dtype         \n",
      "---  ------                --------------  -----         \n",
      " 0   назва                 41647 non-null  object        \n",
      " 1   дата_створення        41647 non-null  datetime64[ns]\n",
      " 2   дата_змінення         41647 non-null  datetime64[ns]\n",
      " 3   статус                41647 non-null  object        \n",
      " 4   сервіс                41644 non-null  object        \n",
      " 5   дата_розрахунку       41574 non-null  datetime64[ns]\n",
      " 6   співпрацю_відновлено  41647 non-null  bool          \n",
      " 7   послуга               41644 non-null  object        \n",
      " 8   корпоративний_клієнт  41647 non-null  bool          \n",
      "dtypes: bool(2), datetime64[ns](3), object(4)\n",
      "memory usage: 2.6+ MB\n"
     ]
    }
   ],
   "source": [
    "ready_repairs.info()"
   ]
  },
  {
   "cell_type": "markdown",
   "metadata": {},
   "source": [
    "### Обробка пропущених значень у полі `дата_розрахунку`\n",
    "\n",
    "У корпоративних клієнтів можлива ситуація, коли ремонт завершено, але рахунок ще не оплачено - тому `дата_розрахунку` може бути порожньою. \n",
    "\n",
    "Щоб коректно враховувати такі випадки, створимо нову колонку **`дата_видачі`**, яка показує фактичне завершення ремонту:\n",
    "\n",
    "- Якщо клієнт оплатив одразу - використовуємо `дата_розрахунку`;\n",
    "- Якщо клієнт має відтермінування - беремо `дата_змінення` як дату готовності до видачі."
   ]
  },
  {
   "cell_type": "code",
   "execution_count": 20,
   "metadata": {},
   "outputs": [
    {
     "data": {
      "text/html": [
       "<div>\n",
       "<style scoped>\n",
       "    .dataframe tbody tr th:only-of-type {\n",
       "        vertical-align: middle;\n",
       "    }\n",
       "\n",
       "    .dataframe tbody tr th {\n",
       "        vertical-align: top;\n",
       "    }\n",
       "\n",
       "    .dataframe thead th {\n",
       "        text-align: right;\n",
       "    }\n",
       "</style>\n",
       "<table border=\"1\" class=\"dataframe\">\n",
       "  <thead>\n",
       "    <tr style=\"text-align: right;\">\n",
       "      <th></th>\n",
       "      <th>назва</th>\n",
       "      <th>дата_створення</th>\n",
       "      <th>дата_змінення</th>\n",
       "      <th>статус</th>\n",
       "      <th>сервіс</th>\n",
       "      <th>дата_розрахунку</th>\n",
       "      <th>співпрацю_відновлено</th>\n",
       "      <th>послуга</th>\n",
       "      <th>корпоративний_клієнт</th>\n",
       "    </tr>\n",
       "  </thead>\n",
       "  <tbody>\n",
       "    <tr>\n",
       "      <th>11</th>\n",
       "      <td>T7625KI</td>\n",
       "      <td>2024-08-31 09:41:48</td>\n",
       "      <td>2024-09-12 11:04:45</td>\n",
       "      <td>Видано(корп. клієнт)</td>\n",
       "      <td>Київ</td>\n",
       "      <td>NaT</td>\n",
       "      <td>False</td>\n",
       "      <td>Турбіна</td>\n",
       "      <td>True</td>\n",
       "    </tr>\n",
       "    <tr>\n",
       "      <th>12</th>\n",
       "      <td>P3339KI</td>\n",
       "      <td>2024-01-11 14:43:57</td>\n",
       "      <td>2024-02-01 18:48:09</td>\n",
       "      <td>Видано(корп. клієнт)</td>\n",
       "      <td>Київ</td>\n",
       "      <td>NaT</td>\n",
       "      <td>False</td>\n",
       "      <td>Паливна</td>\n",
       "      <td>True</td>\n",
       "    </tr>\n",
       "    <tr>\n",
       "      <th>13</th>\n",
       "      <td>S8UZ</td>\n",
       "      <td>2024-04-30 10:47:12</td>\n",
       "      <td>2024-12-02 14:22:25</td>\n",
       "      <td>Видано(корп. клієнт)</td>\n",
       "      <td>Ужгород</td>\n",
       "      <td>NaT</td>\n",
       "      <td>False</td>\n",
       "      <td>Сажа</td>\n",
       "      <td>False</td>\n",
       "    </tr>\n",
       "    <tr>\n",
       "      <th>14</th>\n",
       "      <td>T6359KI</td>\n",
       "      <td>2024-03-14 11:32:12</td>\n",
       "      <td>2024-10-17 12:33:59</td>\n",
       "      <td>Видано(корп. клієнт)</td>\n",
       "      <td>Київ</td>\n",
       "      <td>NaT</td>\n",
       "      <td>False</td>\n",
       "      <td>Турбіна</td>\n",
       "      <td>True</td>\n",
       "    </tr>\n",
       "    <tr>\n",
       "      <th>15</th>\n",
       "      <td>T7692KI</td>\n",
       "      <td>2024-09-10 11:27:16</td>\n",
       "      <td>2024-09-19 16:23:45</td>\n",
       "      <td>Видано(корп. клієнт)</td>\n",
       "      <td>Київ</td>\n",
       "      <td>NaT</td>\n",
       "      <td>False</td>\n",
       "      <td>Турбіна</td>\n",
       "      <td>True</td>\n",
       "    </tr>\n",
       "  </tbody>\n",
       "</table>\n",
       "</div>"
      ],
      "text/plain": [
       "      назва      дата_створення       дата_змінення                статус  \\\n",
       "11  T7625KI 2024-08-31 09:41:48 2024-09-12 11:04:45  Видано(корп. клієнт)   \n",
       "12  P3339KI 2024-01-11 14:43:57 2024-02-01 18:48:09  Видано(корп. клієнт)   \n",
       "13     S8UZ 2024-04-30 10:47:12 2024-12-02 14:22:25  Видано(корп. клієнт)   \n",
       "14  T6359KI 2024-03-14 11:32:12 2024-10-17 12:33:59  Видано(корп. клієнт)   \n",
       "15  T7692KI 2024-09-10 11:27:16 2024-09-19 16:23:45  Видано(корп. клієнт)   \n",
       "\n",
       "     сервіс дата_розрахунку  співпрацю_відновлено  послуга  \\\n",
       "11     Київ             NaT                 False  Турбіна   \n",
       "12     Київ             NaT                 False  Паливна   \n",
       "13  Ужгород             NaT                 False     Сажа   \n",
       "14     Київ             NaT                 False  Турбіна   \n",
       "15     Київ             NaT                 False  Турбіна   \n",
       "\n",
       "    корпоративний_клієнт  \n",
       "11                  True  \n",
       "12                  True  \n",
       "13                 False  \n",
       "14                  True  \n",
       "15                  True  "
      ]
     },
     "execution_count": 20,
     "metadata": {},
     "output_type": "execute_result"
    }
   ],
   "source": [
    "ready_repairs[ready_repairs['дата_розрахунку'].isna()].head()"
   ]
  },
  {
   "cell_type": "code",
   "execution_count": 21,
   "metadata": {},
   "outputs": [
    {
     "name": "stderr",
     "output_type": "stream",
     "text": [
      "/var/folders/5f/274n6vts5536glrl00ns70mw0000gn/T/ipykernel_20012/2163582006.py:1: SettingWithCopyWarning: \n",
      "A value is trying to be set on a copy of a slice from a DataFrame.\n",
      "Try using .loc[row_indexer,col_indexer] = value instead\n",
      "\n",
      "See the caveats in the documentation: https://pandas.pydata.org/pandas-docs/stable/user_guide/indexing.html#returning-a-view-versus-a-copy\n",
      "  ready_repairs.loc[:, 'дата_видачі'] = ready_repairs.apply(\n"
     ]
    },
    {
     "data": {
      "text/html": [
       "<div>\n",
       "<style scoped>\n",
       "    .dataframe tbody tr th:only-of-type {\n",
       "        vertical-align: middle;\n",
       "    }\n",
       "\n",
       "    .dataframe tbody tr th {\n",
       "        vertical-align: top;\n",
       "    }\n",
       "\n",
       "    .dataframe thead th {\n",
       "        text-align: right;\n",
       "    }\n",
       "</style>\n",
       "<table border=\"1\" class=\"dataframe\">\n",
       "  <thead>\n",
       "    <tr style=\"text-align: right;\">\n",
       "      <th></th>\n",
       "      <th>назва</th>\n",
       "      <th>дата_створення</th>\n",
       "      <th>дата_змінення</th>\n",
       "      <th>статус</th>\n",
       "      <th>сервіс</th>\n",
       "      <th>дата_розрахунку</th>\n",
       "      <th>співпрацю_відновлено</th>\n",
       "      <th>послуга</th>\n",
       "      <th>корпоративний_клієнт</th>\n",
       "      <th>дата_видачі</th>\n",
       "    </tr>\n",
       "  </thead>\n",
       "  <tbody>\n",
       "    <tr>\n",
       "      <th>11</th>\n",
       "      <td>T7625KI</td>\n",
       "      <td>2024-08-31 09:41:48</td>\n",
       "      <td>2024-09-12 11:04:45</td>\n",
       "      <td>Видано(корп. клієнт)</td>\n",
       "      <td>Київ</td>\n",
       "      <td>NaT</td>\n",
       "      <td>False</td>\n",
       "      <td>Турбіна</td>\n",
       "      <td>True</td>\n",
       "      <td>2024-09-12 11:04:45</td>\n",
       "    </tr>\n",
       "    <tr>\n",
       "      <th>12</th>\n",
       "      <td>P3339KI</td>\n",
       "      <td>2024-01-11 14:43:57</td>\n",
       "      <td>2024-02-01 18:48:09</td>\n",
       "      <td>Видано(корп. клієнт)</td>\n",
       "      <td>Київ</td>\n",
       "      <td>NaT</td>\n",
       "      <td>False</td>\n",
       "      <td>Паливна</td>\n",
       "      <td>True</td>\n",
       "      <td>2024-02-01 18:48:09</td>\n",
       "    </tr>\n",
       "    <tr>\n",
       "      <th>13</th>\n",
       "      <td>S8UZ</td>\n",
       "      <td>2024-04-30 10:47:12</td>\n",
       "      <td>2024-12-02 14:22:25</td>\n",
       "      <td>Видано(корп. клієнт)</td>\n",
       "      <td>Ужгород</td>\n",
       "      <td>NaT</td>\n",
       "      <td>False</td>\n",
       "      <td>Сажа</td>\n",
       "      <td>False</td>\n",
       "      <td>2024-12-02 14:22:25</td>\n",
       "    </tr>\n",
       "    <tr>\n",
       "      <th>14</th>\n",
       "      <td>T6359KI</td>\n",
       "      <td>2024-03-14 11:32:12</td>\n",
       "      <td>2024-10-17 12:33:59</td>\n",
       "      <td>Видано(корп. клієнт)</td>\n",
       "      <td>Київ</td>\n",
       "      <td>NaT</td>\n",
       "      <td>False</td>\n",
       "      <td>Турбіна</td>\n",
       "      <td>True</td>\n",
       "      <td>2024-10-17 12:33:59</td>\n",
       "    </tr>\n",
       "    <tr>\n",
       "      <th>15</th>\n",
       "      <td>T7692KI</td>\n",
       "      <td>2024-09-10 11:27:16</td>\n",
       "      <td>2024-09-19 16:23:45</td>\n",
       "      <td>Видано(корп. клієнт)</td>\n",
       "      <td>Київ</td>\n",
       "      <td>NaT</td>\n",
       "      <td>False</td>\n",
       "      <td>Турбіна</td>\n",
       "      <td>True</td>\n",
       "      <td>2024-09-19 16:23:45</td>\n",
       "    </tr>\n",
       "  </tbody>\n",
       "</table>\n",
       "</div>"
      ],
      "text/plain": [
       "      назва      дата_створення       дата_змінення                статус  \\\n",
       "11  T7625KI 2024-08-31 09:41:48 2024-09-12 11:04:45  Видано(корп. клієнт)   \n",
       "12  P3339KI 2024-01-11 14:43:57 2024-02-01 18:48:09  Видано(корп. клієнт)   \n",
       "13     S8UZ 2024-04-30 10:47:12 2024-12-02 14:22:25  Видано(корп. клієнт)   \n",
       "14  T6359KI 2024-03-14 11:32:12 2024-10-17 12:33:59  Видано(корп. клієнт)   \n",
       "15  T7692KI 2024-09-10 11:27:16 2024-09-19 16:23:45  Видано(корп. клієнт)   \n",
       "\n",
       "     сервіс дата_розрахунку  співпрацю_відновлено  послуга  \\\n",
       "11     Київ             NaT                 False  Турбіна   \n",
       "12     Київ             NaT                 False  Паливна   \n",
       "13  Ужгород             NaT                 False     Сажа   \n",
       "14     Київ             NaT                 False  Турбіна   \n",
       "15     Київ             NaT                 False  Турбіна   \n",
       "\n",
       "    корпоративний_клієнт         дата_видачі  \n",
       "11                  True 2024-09-12 11:04:45  \n",
       "12                  True 2024-02-01 18:48:09  \n",
       "13                 False 2024-12-02 14:22:25  \n",
       "14                  True 2024-10-17 12:33:59  \n",
       "15                  True 2024-09-19 16:23:45  "
      ]
     },
     "execution_count": 21,
     "metadata": {},
     "output_type": "execute_result"
    }
   ],
   "source": [
    "ready_repairs.loc[:, 'дата_видачі'] = ready_repairs.apply(\n",
    "    lambda row: row['дата_розрахунку']\n",
    "    if pd.notna(row['дата_розрахунку'])\n",
    "    else row['дата_змінення'] if row['статус'] == 'Видано(корп. клієнт)'\n",
    "    else pd.NaT,\n",
    "    axis=1\n",
    ")\n",
    "ready_repairs[ready_repairs['дата_розрахунку'].isna()].head()"
   ]
  },
  {
   "cell_type": "code",
   "execution_count": 22,
   "metadata": {},
   "outputs": [
    {
     "name": "stdout",
     "output_type": "stream",
     "text": [
      "<class 'pandas.core.frame.DataFrame'>\n",
      "Index: 41647 entries, 11 to 59556\n",
      "Data columns (total 10 columns):\n",
      " #   Column                Non-Null Count  Dtype         \n",
      "---  ------                --------------  -----         \n",
      " 0   назва                 41647 non-null  object        \n",
      " 1   дата_створення        41647 non-null  datetime64[ns]\n",
      " 2   дата_змінення         41647 non-null  datetime64[ns]\n",
      " 3   статус                41647 non-null  object        \n",
      " 4   сервіс                41644 non-null  object        \n",
      " 5   дата_розрахунку       41574 non-null  datetime64[ns]\n",
      " 6   співпрацю_відновлено  41647 non-null  bool          \n",
      " 7   послуга               41644 non-null  object        \n",
      " 8   корпоративний_клієнт  41647 non-null  bool          \n",
      " 9   дата_видачі           41647 non-null  datetime64[ns]\n",
      "dtypes: bool(2), datetime64[ns](4), object(4)\n",
      "memory usage: 2.9+ MB\n"
     ]
    }
   ],
   "source": [
    "ready_repairs.info()"
   ]
  },
  {
   "cell_type": "markdown",
   "metadata": {},
   "source": [
    "### Відновлення назви сервісу із коду в `назва`\n",
    "\n",
    "У деяких рядках відсутня інформація про сервіс (`сервіс = NaN`), але її можна відновити за останніми літерами в полі `назва`. Наприклад:\n",
    "\n",
    "- `...HE` → Чернігів\n",
    "- `...VN` → Вінниця\n",
    "- `...CH` → Черкаси\n",
    "\n",
    "Це дозволяє зберегти важливу інформацію для подальшого аналізу по сервісах.\n"
   ]
  },
  {
   "cell_type": "code",
   "execution_count": 23,
   "metadata": {},
   "outputs": [
    {
     "data": {
      "text/html": [
       "<div>\n",
       "<style scoped>\n",
       "    .dataframe tbody tr th:only-of-type {\n",
       "        vertical-align: middle;\n",
       "    }\n",
       "\n",
       "    .dataframe tbody tr th {\n",
       "        vertical-align: top;\n",
       "    }\n",
       "\n",
       "    .dataframe thead th {\n",
       "        text-align: right;\n",
       "    }\n",
       "</style>\n",
       "<table border=\"1\" class=\"dataframe\">\n",
       "  <thead>\n",
       "    <tr style=\"text-align: right;\">\n",
       "      <th></th>\n",
       "      <th>назва</th>\n",
       "      <th>дата_створення</th>\n",
       "      <th>дата_змінення</th>\n",
       "      <th>статус</th>\n",
       "      <th>сервіс</th>\n",
       "      <th>дата_розрахунку</th>\n",
       "      <th>співпрацю_відновлено</th>\n",
       "      <th>послуга</th>\n",
       "      <th>корпоративний_клієнт</th>\n",
       "      <th>дата_видачі</th>\n",
       "    </tr>\n",
       "  </thead>\n",
       "  <tbody>\n",
       "    <tr>\n",
       "      <th>13114</th>\n",
       "      <td>RE-T212HE</td>\n",
       "      <td>2024-03-19 10:54:13</td>\n",
       "      <td>2024-05-01 21:19:34</td>\n",
       "      <td>Розрахунок</td>\n",
       "      <td>NaN</td>\n",
       "      <td>2024-04-15</td>\n",
       "      <td>False</td>\n",
       "      <td>Турбіна</td>\n",
       "      <td>True</td>\n",
       "      <td>2024-04-15</td>\n",
       "    </tr>\n",
       "    <tr>\n",
       "      <th>24851</th>\n",
       "      <td>RE-T1183VN</td>\n",
       "      <td>2024-10-10 09:23:36</td>\n",
       "      <td>2024-12-03 20:32:40</td>\n",
       "      <td>Розрахунок</td>\n",
       "      <td>NaN</td>\n",
       "      <td>2024-11-05</td>\n",
       "      <td>False</td>\n",
       "      <td>Турбіна</td>\n",
       "      <td>False</td>\n",
       "      <td>2024-11-05</td>\n",
       "    </tr>\n",
       "    <tr>\n",
       "      <th>25875</th>\n",
       "      <td>T993CH</td>\n",
       "      <td>2024-11-04 15:10:20</td>\n",
       "      <td>2024-12-03 20:16:33</td>\n",
       "      <td>Розрахунок</td>\n",
       "      <td>NaN</td>\n",
       "      <td>2024-11-18</td>\n",
       "      <td>False</td>\n",
       "      <td>NaN</td>\n",
       "      <td>False</td>\n",
       "      <td>2024-11-18</td>\n",
       "    </tr>\n",
       "  </tbody>\n",
       "</table>\n",
       "</div>"
      ],
      "text/plain": [
       "            назва      дата_створення       дата_змінення      статус сервіс  \\\n",
       "13114   RE-T212HE 2024-03-19 10:54:13 2024-05-01 21:19:34  Розрахунок    NaN   \n",
       "24851  RE-T1183VN 2024-10-10 09:23:36 2024-12-03 20:32:40  Розрахунок    NaN   \n",
       "25875      T993CH 2024-11-04 15:10:20 2024-12-03 20:16:33  Розрахунок    NaN   \n",
       "\n",
       "      дата_розрахунку  співпрацю_відновлено  послуга  корпоративний_клієнт  \\\n",
       "13114      2024-04-15                 False  Турбіна                  True   \n",
       "24851      2024-11-05                 False  Турбіна                 False   \n",
       "25875      2024-11-18                 False      NaN                 False   \n",
       "\n",
       "      дата_видачі  \n",
       "13114  2024-04-15  \n",
       "24851  2024-11-05  \n",
       "25875  2024-11-18  "
      ]
     },
     "execution_count": 23,
     "metadata": {},
     "output_type": "execute_result"
    }
   ],
   "source": [
    "ready_repairs[ready_repairs['сервіс'].isna()]"
   ]
  },
  {
   "cell_type": "code",
   "execution_count": 24,
   "metadata": {},
   "outputs": [],
   "source": [
    "suffix_to_service = {\n",
    "    'HE': 'Чернігів',\n",
    "    'VN': 'Вінниця',\n",
    "    'CH': 'Черкаси',\n",
    "}\n",
    "# Створив словник для пошуку в \"назва\"\n",
    "\n",
    "\n",
    "def look_up_station(name):\n",
    "    if pd.isna(name) or len(name) < 2:\n",
    "        return None\n",
    "    suffix = name[-2:]\n",
    "    return suffix_to_service.get(suffix, None)\n",
    "# Функція дозволяє визначити сервіс\n",
    "\n",
    "\n",
    "mask_na = ready_repairs['сервіс'].isna()\n",
    "ready_repairs.loc[mask_na, 'сервіс'] = ready_repairs.loc[mask_na,\n",
    "                                                         'назва'].apply(look_up_station)\n",
    "# Заповнюю тільки там, де сервіси == NaN"
   ]
  },
  {
   "cell_type": "code",
   "execution_count": 25,
   "metadata": {},
   "outputs": [
    {
     "data": {
      "text/plain": [
       "(0, 10)"
      ]
     },
     "execution_count": 25,
     "metadata": {},
     "output_type": "execute_result"
    }
   ],
   "source": [
    "ready_repairs[ready_repairs['сервіс'].isna()].shape"
   ]
  },
  {
   "cell_type": "code",
   "execution_count": 26,
   "metadata": {},
   "outputs": [
    {
     "name": "stdout",
     "output_type": "stream",
     "text": [
      "<class 'pandas.core.frame.DataFrame'>\n",
      "Index: 41647 entries, 11 to 59556\n",
      "Data columns (total 10 columns):\n",
      " #   Column                Non-Null Count  Dtype         \n",
      "---  ------                --------------  -----         \n",
      " 0   назва                 41647 non-null  object        \n",
      " 1   дата_створення        41647 non-null  datetime64[ns]\n",
      " 2   дата_змінення         41647 non-null  datetime64[ns]\n",
      " 3   статус                41647 non-null  object        \n",
      " 4   сервіс                41647 non-null  object        \n",
      " 5   дата_розрахунку       41574 non-null  datetime64[ns]\n",
      " 6   співпрацю_відновлено  41647 non-null  bool          \n",
      " 7   послуга               41644 non-null  object        \n",
      " 8   корпоративний_клієнт  41647 non-null  bool          \n",
      " 9   дата_видачі           41647 non-null  datetime64[ns]\n",
      "dtypes: bool(2), datetime64[ns](4), object(4)\n",
      "memory usage: 2.9+ MB\n"
     ]
    }
   ],
   "source": [
    "ready_repairs.info()"
   ]
  },
  {
   "cell_type": "markdown",
   "metadata": {},
   "source": [
    "### Заповнення пропущених значень у колонці `послуга`\n",
    "\n",
    "У деяких записах послуга відсутня, але її можна відновити на основі **першої літери коду в `назва`**:\n",
    "\n",
    "- `T...` → Турбіна\n",
    "- `P...` → Паливна система\n",
    "- `S...` → Сажовий фільтр\n",
    "\n",
    "Цей підхід дозволяє уникнути втрати даних при подальшій агрегації та побудові графіків.\n"
   ]
  },
  {
   "cell_type": "code",
   "execution_count": 27,
   "metadata": {},
   "outputs": [
    {
     "data": {
      "text/html": [
       "<div>\n",
       "<style scoped>\n",
       "    .dataframe tbody tr th:only-of-type {\n",
       "        vertical-align: middle;\n",
       "    }\n",
       "\n",
       "    .dataframe tbody tr th {\n",
       "        vertical-align: top;\n",
       "    }\n",
       "\n",
       "    .dataframe thead th {\n",
       "        text-align: right;\n",
       "    }\n",
       "</style>\n",
       "<table border=\"1\" class=\"dataframe\">\n",
       "  <thead>\n",
       "    <tr style=\"text-align: right;\">\n",
       "      <th></th>\n",
       "      <th>назва</th>\n",
       "      <th>дата_створення</th>\n",
       "      <th>дата_змінення</th>\n",
       "      <th>статус</th>\n",
       "      <th>сервіс</th>\n",
       "      <th>дата_розрахунку</th>\n",
       "      <th>співпрацю_відновлено</th>\n",
       "      <th>послуга</th>\n",
       "      <th>корпоративний_клієнт</th>\n",
       "      <th>дата_видачі</th>\n",
       "    </tr>\n",
       "  </thead>\n",
       "  <tbody>\n",
       "    <tr>\n",
       "      <th>18361</th>\n",
       "      <td>T1184RI</td>\n",
       "      <td>2024-04-05 13:13:48</td>\n",
       "      <td>2024-06-05 19:24:16</td>\n",
       "      <td>Розрахунок</td>\n",
       "      <td>Рівне</td>\n",
       "      <td>2024-04-16</td>\n",
       "      <td>False</td>\n",
       "      <td>NaN</td>\n",
       "      <td>False</td>\n",
       "      <td>2024-04-16</td>\n",
       "    </tr>\n",
       "    <tr>\n",
       "      <th>25875</th>\n",
       "      <td>T993CH</td>\n",
       "      <td>2024-11-04 15:10:20</td>\n",
       "      <td>2024-12-03 20:16:33</td>\n",
       "      <td>Розрахунок</td>\n",
       "      <td>Черкаси</td>\n",
       "      <td>2024-11-18</td>\n",
       "      <td>False</td>\n",
       "      <td>NaN</td>\n",
       "      <td>False</td>\n",
       "      <td>2024-11-18</td>\n",
       "    </tr>\n",
       "    <tr>\n",
       "      <th>32145</th>\n",
       "      <td>T1328LU</td>\n",
       "      <td>2024-08-22 15:43:32</td>\n",
       "      <td>2024-09-26 21:12:06</td>\n",
       "      <td>Розрахунок</td>\n",
       "      <td>Луцьк</td>\n",
       "      <td>2024-09-02</td>\n",
       "      <td>False</td>\n",
       "      <td>NaN</td>\n",
       "      <td>False</td>\n",
       "      <td>2024-09-02</td>\n",
       "    </tr>\n",
       "  </tbody>\n",
       "</table>\n",
       "</div>"
      ],
      "text/plain": [
       "         назва      дата_створення       дата_змінення      статус   сервіс  \\\n",
       "18361  T1184RI 2024-04-05 13:13:48 2024-06-05 19:24:16  Розрахунок    Рівне   \n",
       "25875   T993CH 2024-11-04 15:10:20 2024-12-03 20:16:33  Розрахунок  Черкаси   \n",
       "32145  T1328LU 2024-08-22 15:43:32 2024-09-26 21:12:06  Розрахунок    Луцьк   \n",
       "\n",
       "      дата_розрахунку  співпрацю_відновлено послуга  корпоративний_клієнт  \\\n",
       "18361      2024-04-16                 False     NaN                 False   \n",
       "25875      2024-11-18                 False     NaN                 False   \n",
       "32145      2024-09-02                 False     NaN                 False   \n",
       "\n",
       "      дата_видачі  \n",
       "18361  2024-04-16  \n",
       "25875  2024-11-18  \n",
       "32145  2024-09-02  "
      ]
     },
     "execution_count": 27,
     "metadata": {},
     "output_type": "execute_result"
    }
   ],
   "source": [
    "ready_repairs[ready_repairs['послуга'].isna()]"
   ]
  },
  {
   "cell_type": "code",
   "execution_count": 28,
   "metadata": {},
   "outputs": [],
   "source": [
    "prefix_to_service = {\n",
    "    'T': 'Турбіна',\n",
    "    'P': 'Паливна',\n",
    "    'S': 'Сажа'\n",
    "}\n",
    "\n",
    "\n",
    "def look_up_service(name):\n",
    "    if pd.isna(name) or len(name) < 1:\n",
    "        return None\n",
    "    first_letter = name[0]\n",
    "    return prefix_to_service.get(first_letter, None)\n",
    "\n",
    "\n",
    "mask_na = ready_repairs['послуга'].isna()\n",
    "ready_repairs.loc[mask_na, 'послуга'] = ready_repairs.loc[mask_na,\n",
    "                                                          'назва'].apply(look_up_service)"
   ]
  },
  {
   "cell_type": "code",
   "execution_count": 29,
   "metadata": {},
   "outputs": [
    {
     "data": {
      "text/html": [
       "<div>\n",
       "<style scoped>\n",
       "    .dataframe tbody tr th:only-of-type {\n",
       "        vertical-align: middle;\n",
       "    }\n",
       "\n",
       "    .dataframe tbody tr th {\n",
       "        vertical-align: top;\n",
       "    }\n",
       "\n",
       "    .dataframe thead th {\n",
       "        text-align: right;\n",
       "    }\n",
       "</style>\n",
       "<table border=\"1\" class=\"dataframe\">\n",
       "  <thead>\n",
       "    <tr style=\"text-align: right;\">\n",
       "      <th></th>\n",
       "      <th>назва</th>\n",
       "      <th>дата_створення</th>\n",
       "      <th>дата_змінення</th>\n",
       "      <th>статус</th>\n",
       "      <th>сервіс</th>\n",
       "      <th>дата_розрахунку</th>\n",
       "      <th>співпрацю_відновлено</th>\n",
       "      <th>послуга</th>\n",
       "      <th>корпоративний_клієнт</th>\n",
       "      <th>дата_видачі</th>\n",
       "    </tr>\n",
       "  </thead>\n",
       "  <tbody>\n",
       "  </tbody>\n",
       "</table>\n",
       "</div>"
      ],
      "text/plain": [
       "Empty DataFrame\n",
       "Columns: [назва, дата_створення, дата_змінення, статус, сервіс, дата_розрахунку, співпрацю_відновлено, послуга, корпоративний_клієнт, дата_видачі]\n",
       "Index: []"
      ]
     },
     "execution_count": 29,
     "metadata": {},
     "output_type": "execute_result"
    }
   ],
   "source": [
    "ready_repairs[ready_repairs['послуга'].isna()]"
   ]
  },
  {
   "cell_type": "code",
   "execution_count": 30,
   "metadata": {},
   "outputs": [
    {
     "name": "stdout",
     "output_type": "stream",
     "text": [
      "<class 'pandas.core.frame.DataFrame'>\n",
      "Index: 41647 entries, 11 to 59556\n",
      "Data columns (total 10 columns):\n",
      " #   Column                Non-Null Count  Dtype         \n",
      "---  ------                --------------  -----         \n",
      " 0   назва                 41647 non-null  object        \n",
      " 1   дата_створення        41647 non-null  datetime64[ns]\n",
      " 2   дата_змінення         41647 non-null  datetime64[ns]\n",
      " 3   статус                41647 non-null  object        \n",
      " 4   сервіс                41647 non-null  object        \n",
      " 5   дата_розрахунку       41574 non-null  datetime64[ns]\n",
      " 6   співпрацю_відновлено  41647 non-null  bool          \n",
      " 7   послуга               41647 non-null  object        \n",
      " 8   корпоративний_клієнт  41647 non-null  bool          \n",
      " 9   дата_видачі           41647 non-null  datetime64[ns]\n",
      "dtypes: bool(2), datetime64[ns](4), object(4)\n",
      "memory usage: 2.9+ MB\n"
     ]
    }
   ],
   "source": [
    "ready_repairs.info()"
   ]
  },
  {
   "cell_type": "markdown",
   "metadata": {},
   "source": [
    "### Визначення року, місяця та регіону\n",
    "\n",
    "Для подальшого аналізу додано нові ознаки:\n",
    "\n",
    "- **`рік`** і **`місяць`** – виділено з дати фактичної видачі (`дата_створення`);\n",
    "- **`регіон`** – визначено на основі назви сервісу через відповідність міст до регіонів.\n",
    "\n",
    "Відібрано лише ремонти, виконані з **січня по травень включно у 2024 та 2025 роках**.\n"
   ]
  },
  {
   "cell_type": "code",
   "execution_count": 31,
   "metadata": {},
   "outputs": [
    {
     "data": {
      "text/plain": [
       "array(['Київ', 'Ужгород', 'Київ 2', 'Кривий Ріг', 'Дніпро', 'Київ VH',\n",
       "       'Харків', 'Черкаси', 'Львів', 'Одеса', 'Суми', 'Івано-Франківськ',\n",
       "       'Полтава', 'Чернігів', 'Рівне', 'Запоріжжя', 'Миколаїв', 'Вишневе',\n",
       "       'A Луцьк', 'Луцьк', 'Кременчук', 'Київ ЛБ', 'Бориспіль', 'Вінниця',\n",
       "       'Тернопіль', 'Кропивницький', 'A Львів', 'Житомир', 'Хмельницький',\n",
       "       'A Івано-Франківськ', 'A Дніпро', 'Чернівці', 'A Київ', 'Умань',\n",
       "       'Дрогобич', 'Біла Церква', 'Коломия', 'Ковель', 'Олександрія',\n",
       "       'Бровари', 'Вінниця 2', 'Кам`янське'], dtype=object)"
      ]
     },
     "execution_count": 31,
     "metadata": {},
     "output_type": "execute_result"
    }
   ],
   "source": [
    "ready_repairs['сервіс'].unique()"
   ]
  },
  {
   "cell_type": "code",
   "execution_count": 48,
   "metadata": {},
   "outputs": [],
   "source": [
    "ready_repairs.loc[:, 'рік'] = ready_repairs['дата_створення'].dt.year\n",
    "ready_repairs.loc[:, 'місяць'] = ready_repairs['дата_створення'].dt.month"
   ]
  },
  {
   "cell_type": "code",
   "execution_count": 49,
   "metadata": {},
   "outputs": [],
   "source": [
    "city_to_region = {\n",
    "    'Київ': 'Центр', 'Київ 2': 'Центр', 'Київ VH': 'Центр', 'Київ ЛБ': 'Центр',\n",
    "    'A Київ': 'Центр', 'Бровари': 'Центр', 'Бориспіль': 'Центр', 'Біла Церква': 'Центр',\n",
    "    'Черкаси': 'Центр', 'Вінниця': 'Центр', 'Вінниця 2': 'Центр', 'Житомир': 'Центр',\n",
    "    'Умань': 'Центр', 'Кременчук': 'Центр', 'Олександрія': 'Центр', 'Вишневе': 'Центр',\n",
    "    'Харків': 'Схід', 'Полтава': 'Схід', 'Кам`янське': 'Схід',\n",
    "    'Чернігів': 'Північ', 'Суми': 'Північ',\n",
    "    'Львів': 'Захід', 'A Львів': 'Захід', 'Рівне': 'Захід', 'Івано-Франківськ': 'Захід',\n",
    "    'A Івано-Франківськ': 'Захід', 'Луцьк': 'Захід', 'A Луцьк': 'Захід',\n",
    "    'Тернопіль': 'Захід', 'Чернівці': 'Захід', 'Ужгород': 'Захід', 'Дрогобич': 'Захід',\n",
    "    'Ковель': 'Захід', 'Коломия': 'Захід', 'Хмельницький': 'Захід',\n",
    "    'Дніпро': 'Південь', 'A Дніпро': 'Південь', 'Кривий Ріг': 'Південь',\n",
    "    'Кропивницький': 'Південь', 'Запоріжжя': 'Південь', 'Миколаїв': 'Південь',\n",
    "    'Одеса': 'Південь',\n",
    "}\n",
    "\n",
    "ready_repairs.loc[:, 'регіон'] = ready_repairs['сервіс'].map(city_to_region)"
   ]
  },
  {
   "cell_type": "code",
   "execution_count": 50,
   "metadata": {},
   "outputs": [
    {
     "data": {
      "text/html": [
       "<div>\n",
       "<style scoped>\n",
       "    .dataframe tbody tr th:only-of-type {\n",
       "        vertical-align: middle;\n",
       "    }\n",
       "\n",
       "    .dataframe tbody tr th {\n",
       "        vertical-align: top;\n",
       "    }\n",
       "\n",
       "    .dataframe thead th {\n",
       "        text-align: right;\n",
       "    }\n",
       "</style>\n",
       "<table border=\"1\" class=\"dataframe\">\n",
       "  <thead>\n",
       "    <tr style=\"text-align: right;\">\n",
       "      <th></th>\n",
       "      <th>назва</th>\n",
       "      <th>дата_створення</th>\n",
       "      <th>дата_змінення</th>\n",
       "      <th>статус</th>\n",
       "      <th>сервіс</th>\n",
       "      <th>дата_розрахунку</th>\n",
       "      <th>співпрацю_відновлено</th>\n",
       "      <th>послуга</th>\n",
       "      <th>корпоративний_клієнт</th>\n",
       "      <th>дата_видачі</th>\n",
       "      <th>рік</th>\n",
       "      <th>місяць</th>\n",
       "      <th>регіон</th>\n",
       "      <th>тип_клієнта</th>\n",
       "      <th>тривалість_днів</th>\n",
       "    </tr>\n",
       "  </thead>\n",
       "  <tbody>\n",
       "    <tr>\n",
       "      <th>11</th>\n",
       "      <td>T7625KI</td>\n",
       "      <td>2024-08-31 09:41:48</td>\n",
       "      <td>2024-09-12 11:04:45</td>\n",
       "      <td>Видано(корп. клієнт)</td>\n",
       "      <td>Київ</td>\n",
       "      <td>NaT</td>\n",
       "      <td>False</td>\n",
       "      <td>Турбіна</td>\n",
       "      <td>True</td>\n",
       "      <td>2024-09-12 11:04:45</td>\n",
       "      <td>2024</td>\n",
       "      <td>8</td>\n",
       "      <td>Центр</td>\n",
       "      <td>B2B</td>\n",
       "      <td>12</td>\n",
       "    </tr>\n",
       "    <tr>\n",
       "      <th>12</th>\n",
       "      <td>P3339KI</td>\n",
       "      <td>2024-01-11 14:43:57</td>\n",
       "      <td>2024-02-01 18:48:09</td>\n",
       "      <td>Видано(корп. клієнт)</td>\n",
       "      <td>Київ</td>\n",
       "      <td>NaT</td>\n",
       "      <td>False</td>\n",
       "      <td>Паливна</td>\n",
       "      <td>True</td>\n",
       "      <td>2024-02-01 18:48:09</td>\n",
       "      <td>2024</td>\n",
       "      <td>1</td>\n",
       "      <td>Центр</td>\n",
       "      <td>B2B</td>\n",
       "      <td>21</td>\n",
       "    </tr>\n",
       "    <tr>\n",
       "      <th>13</th>\n",
       "      <td>S8UZ</td>\n",
       "      <td>2024-04-30 10:47:12</td>\n",
       "      <td>2024-12-02 14:22:25</td>\n",
       "      <td>Видано(корп. клієнт)</td>\n",
       "      <td>Ужгород</td>\n",
       "      <td>NaT</td>\n",
       "      <td>False</td>\n",
       "      <td>Сажа</td>\n",
       "      <td>False</td>\n",
       "      <td>2024-12-02 14:22:25</td>\n",
       "      <td>2024</td>\n",
       "      <td>4</td>\n",
       "      <td>Захід</td>\n",
       "      <td>B2C</td>\n",
       "      <td>216</td>\n",
       "    </tr>\n",
       "    <tr>\n",
       "      <th>14</th>\n",
       "      <td>T6359KI</td>\n",
       "      <td>2024-03-14 11:32:12</td>\n",
       "      <td>2024-10-17 12:33:59</td>\n",
       "      <td>Видано(корп. клієнт)</td>\n",
       "      <td>Київ</td>\n",
       "      <td>NaT</td>\n",
       "      <td>False</td>\n",
       "      <td>Турбіна</td>\n",
       "      <td>True</td>\n",
       "      <td>2024-10-17 12:33:59</td>\n",
       "      <td>2024</td>\n",
       "      <td>3</td>\n",
       "      <td>Центр</td>\n",
       "      <td>B2B</td>\n",
       "      <td>217</td>\n",
       "    </tr>\n",
       "    <tr>\n",
       "      <th>15</th>\n",
       "      <td>T7692KI</td>\n",
       "      <td>2024-09-10 11:27:16</td>\n",
       "      <td>2024-09-19 16:23:45</td>\n",
       "      <td>Видано(корп. клієнт)</td>\n",
       "      <td>Київ</td>\n",
       "      <td>NaT</td>\n",
       "      <td>False</td>\n",
       "      <td>Турбіна</td>\n",
       "      <td>True</td>\n",
       "      <td>2024-09-19 16:23:45</td>\n",
       "      <td>2024</td>\n",
       "      <td>9</td>\n",
       "      <td>Центр</td>\n",
       "      <td>B2B</td>\n",
       "      <td>9</td>\n",
       "    </tr>\n",
       "  </tbody>\n",
       "</table>\n",
       "</div>"
      ],
      "text/plain": [
       "      назва      дата_створення       дата_змінення                статус  \\\n",
       "11  T7625KI 2024-08-31 09:41:48 2024-09-12 11:04:45  Видано(корп. клієнт)   \n",
       "12  P3339KI 2024-01-11 14:43:57 2024-02-01 18:48:09  Видано(корп. клієнт)   \n",
       "13     S8UZ 2024-04-30 10:47:12 2024-12-02 14:22:25  Видано(корп. клієнт)   \n",
       "14  T6359KI 2024-03-14 11:32:12 2024-10-17 12:33:59  Видано(корп. клієнт)   \n",
       "15  T7692KI 2024-09-10 11:27:16 2024-09-19 16:23:45  Видано(корп. клієнт)   \n",
       "\n",
       "     сервіс дата_розрахунку  співпрацю_відновлено  послуга  \\\n",
       "11     Київ             NaT                 False  Турбіна   \n",
       "12     Київ             NaT                 False  Паливна   \n",
       "13  Ужгород             NaT                 False     Сажа   \n",
       "14     Київ             NaT                 False  Турбіна   \n",
       "15     Київ             NaT                 False  Турбіна   \n",
       "\n",
       "    корпоративний_клієнт         дата_видачі   рік  місяць регіон тип_клієнта  \\\n",
       "11                  True 2024-09-12 11:04:45  2024       8  Центр         B2B   \n",
       "12                  True 2024-02-01 18:48:09  2024       1  Центр         B2B   \n",
       "13                 False 2024-12-02 14:22:25  2024       4  Захід         B2C   \n",
       "14                  True 2024-10-17 12:33:59  2024       3  Центр         B2B   \n",
       "15                  True 2024-09-19 16:23:45  2024       9  Центр         B2B   \n",
       "\n",
       "    тривалість_днів  \n",
       "11               12  \n",
       "12               21  \n",
       "13              216  \n",
       "14              217  \n",
       "15                9  "
      ]
     },
     "execution_count": 50,
     "metadata": {},
     "output_type": "execute_result"
    }
   ],
   "source": [
    "ready_repairs.head()"
   ]
  },
  {
   "cell_type": "code",
   "execution_count": 51,
   "metadata": {},
   "outputs": [],
   "source": [
    "filtered_repairs = ready_repairs[\n",
    "    (ready_repairs['місяць'].between(1, 5)) &\n",
    "    (ready_repairs['рік'].isin([2024, 2025]))\n",
    "]"
   ]
  },
  {
   "cell_type": "code",
   "execution_count": 52,
   "metadata": {},
   "outputs": [
    {
     "data": {
      "text/html": [
       "<div>\n",
       "<style scoped>\n",
       "    .dataframe tbody tr th:only-of-type {\n",
       "        vertical-align: middle;\n",
       "    }\n",
       "\n",
       "    .dataframe tbody tr th {\n",
       "        vertical-align: top;\n",
       "    }\n",
       "\n",
       "    .dataframe thead th {\n",
       "        text-align: right;\n",
       "    }\n",
       "</style>\n",
       "<table border=\"1\" class=\"dataframe\">\n",
       "  <thead>\n",
       "    <tr style=\"text-align: right;\">\n",
       "      <th></th>\n",
       "      <th>рік</th>\n",
       "      <th>місяць</th>\n",
       "      <th>кількість_ремонтів</th>\n",
       "    </tr>\n",
       "  </thead>\n",
       "  <tbody>\n",
       "    <tr>\n",
       "      <th>0</th>\n",
       "      <td>2024</td>\n",
       "      <td>1</td>\n",
       "      <td>2124</td>\n",
       "    </tr>\n",
       "    <tr>\n",
       "      <th>1</th>\n",
       "      <td>2024</td>\n",
       "      <td>2</td>\n",
       "      <td>2376</td>\n",
       "    </tr>\n",
       "    <tr>\n",
       "      <th>2</th>\n",
       "      <td>2024</td>\n",
       "      <td>3</td>\n",
       "      <td>2528</td>\n",
       "    </tr>\n",
       "    <tr>\n",
       "      <th>3</th>\n",
       "      <td>2024</td>\n",
       "      <td>4</td>\n",
       "      <td>2740</td>\n",
       "    </tr>\n",
       "    <tr>\n",
       "      <th>4</th>\n",
       "      <td>2024</td>\n",
       "      <td>5</td>\n",
       "      <td>2422</td>\n",
       "    </tr>\n",
       "    <tr>\n",
       "      <th>5</th>\n",
       "      <td>2025</td>\n",
       "      <td>1</td>\n",
       "      <td>1945</td>\n",
       "    </tr>\n",
       "    <tr>\n",
       "      <th>6</th>\n",
       "      <td>2025</td>\n",
       "      <td>2</td>\n",
       "      <td>1833</td>\n",
       "    </tr>\n",
       "    <tr>\n",
       "      <th>7</th>\n",
       "      <td>2025</td>\n",
       "      <td>3</td>\n",
       "      <td>2324</td>\n",
       "    </tr>\n",
       "    <tr>\n",
       "      <th>8</th>\n",
       "      <td>2025</td>\n",
       "      <td>4</td>\n",
       "      <td>2357</td>\n",
       "    </tr>\n",
       "    <tr>\n",
       "      <th>9</th>\n",
       "      <td>2025</td>\n",
       "      <td>5</td>\n",
       "      <td>2385</td>\n",
       "    </tr>\n",
       "  </tbody>\n",
       "</table>\n",
       "</div>"
      ],
      "text/plain": [
       "    рік  місяць  кількість_ремонтів\n",
       "0  2024       1                2124\n",
       "1  2024       2                2376\n",
       "2  2024       3                2528\n",
       "3  2024       4                2740\n",
       "4  2024       5                2422\n",
       "5  2025       1                1945\n",
       "6  2025       2                1833\n",
       "7  2025       3                2324\n",
       "8  2025       4                2357\n",
       "9  2025       5                2385"
      ]
     },
     "execution_count": 52,
     "metadata": {},
     "output_type": "execute_result"
    }
   ],
   "source": [
    "pivot_data = filtered_repairs.groupby(\n",
    "    ['рік', 'місяць']).size().reset_index(name='кількість_ремонтів')\n",
    "pivot_data"
   ]
  },
  {
   "cell_type": "code",
   "execution_count": 53,
   "metadata": {},
   "outputs": [
    {
     "data": {
      "image/png": "[encoded data removed]",
      "text/plain": [
       "<Figure size 1200x600 with 1 Axes>"
      ]
     },
     "metadata": {},
     "output_type": "display_data"
    }
   ],
   "source": [
    "def format_number(value):\n",
    "    return f'{value:,.0f}'.replace(',', ' ')\n",
    "\n",
    "\n",
    "plt.figure(figsize=(12, 6))\n",
    "ax = sns.lineplot(\n",
    "    data=pivot_data,\n",
    "    x='місяць',\n",
    "    y='кількість_ремонтів',\n",
    "    hue='рік',\n",
    "    style='рік',\n",
    "    markers=True,\n",
    "    dashes=False,\n",
    "    palette='tab10'\n",
    ")\n",
    "\n",
    "for line in ax.lines:\n",
    "    for x, y in zip(line.get_xdata(), line.get_ydata()):\n",
    "        if not pd.isna(y):\n",
    "            ax.annotate(\n",
    "                format_number(y),\n",
    "                xy=(x, y),\n",
    "                xytext=(0, 6),\n",
    "                textcoords='offset points',\n",
    "                ha='center',\n",
    "                fontsize=9,\n",
    "                color=line.get_color()\n",
    "            )\n",
    "plt.title('Динаміка ремонтів по місяцях (січень–травень) - 2024 vs 2025', fontsize=13)\n",
    "plt.xlabel('Місяць')\n",
    "plt.ylabel('Кількість ремонтів')\n",
    "plt.xticks([1, 2, 3, 4, 5], ['Січ', 'Лют', 'Бер', 'Кві', 'Тра'])\n",
    "plt.grid(axis='y', linestyle='--', alpha=0.5)\n",
    "plt.legend(title='Рік')\n",
    "plt.tight_layout()\n",
    "plt.show()"
   ]
  },
  {
   "cell_type": "code",
   "execution_count": 54,
   "metadata": {},
   "outputs": [
    {
     "name": "stderr",
     "output_type": "stream",
     "text": [
      "/var/folders/5f/274n6vts5536glrl00ns70mw0000gn/T/ipykernel_20012/1422751307.py:14: FutureWarning: \n",
      "\n",
      "Passing `palette` without assigning `hue` is deprecated and will be removed in v0.14.0. Assign the `x` variable to `hue` and set `legend=False` for the same effect.\n",
      "\n",
      "  sns.barplot(\n"
     ]
    },
    {
     "data": {
      "image/png": "[encoded data removed]",
      "text/plain": [
       "<Figure size 1000x800 with 1 Axes>"
      ]
     },
     "metadata": {},
     "output_type": "display_data"
    }
   ],
   "source": [
    "pivot_data_simple = ready_repairs[\n",
    "    (ready_repairs['місяць'].between(1, 5)) &\n",
    "    (ready_repairs['рік'].isin([2024, 2025]))\n",
    "].groupby(['рік', 'місяць']).size().reset_index(name='кількість_ремонтів')\n",
    "\n",
    "\n",
    "pivot_percent = pivot_data_simple.pivot(\n",
    "    index='місяць', columns='рік', values='кількість_ремонтів').reset_index()\n",
    "pivot_percent['%_зміна'] = (\n",
    "    (pivot_percent[2025] - pivot_percent[2024]) / pivot_percent[2024]) * 100\n",
    "\n",
    "\n",
    "plt.figure(figsize=(10, 8))\n",
    "sns.barplot(\n",
    "    data=pivot_percent,\n",
    "    x='місяць',\n",
    "    y='%_зміна',\n",
    "    palette='Blues',\n",
    ")\n",
    "\n",
    "\n",
    "for index, row in pivot_percent.iterrows():\n",
    "    plt.text(\n",
    "        row.name,\n",
    "        row['%_зміна'] + (1 if row['%_зміна'] >= 0 else -1),\n",
    "        f\"{row['%_зміна']:.1f}%\",\n",
    "        ha='center',\n",
    "        va='bottom' if row['%_зміна'] >= 0 else 'top',\n",
    "        fontsize=9\n",
    "    )\n",
    "\n",
    "\n",
    "plt.axhline(0, color='black', linestyle='--')\n",
    "plt.title(\n",
    "    '% зміна кількості ремонтів у 2025 році відносно 2024 (січень–травень)', fontsize=13)\n",
    "plt.xlabel('Місяць')\n",
    "plt.ylabel('% зміна')\n",
    "plt.xticks([0, 1, 2, 3, 4], ['Січ', 'Лют', 'Бер', 'Кві', 'Тра'])\n",
    "plt.grid(axis='y', linestyle='--', alpha=0.4)\n",
    "plt.tight_layout()\n",
    "plt.show()"
   ]
  },
  {
   "cell_type": "markdown",
   "metadata": {},
   "source": []
  },
  {
   "cell_type": "code",
   "execution_count": 55,
   "metadata": {},
   "outputs": [
    {
     "data": {
      "image/png": "[encoded data removed]",
      "text/plain": [
       "<Figure size 1200x600 with 1 Axes>"
      ]
     },
     "metadata": {},
     "output_type": "display_data"
    }
   ],
   "source": [
    "ready_repairs.loc[:, 'тип_клієнта'] = ready_repairs['корпоративний_клієнт'].map(\n",
    "    {True: 'B2B', False: 'B2C'})\n",
    "\n",
    "\n",
    "pivot_client = ready_repairs[\n",
    "    (ready_repairs['місяць'].between(1, 5)) &\n",
    "    (ready_repairs['рік'].isin([2024, 2025]))\n",
    "].groupby(['тип_клієнта', 'рік', 'місяць']).size().reset_index(name='кількість_ремонтів')\n",
    "# Групування по типу клієнта, року та місяцю\n",
    "\n",
    "\n",
    "pivot_percent_clients = pivot_client.pivot(\n",
    "    index=['тип_клієнта', 'місяць'], columns='рік', values='кількість_ремонтів').reset_index()\n",
    "# Pivot-таблиця: місяць + тип клієнта → значення по роках\n",
    "\n",
    "pivot_percent_clients['%_зміна'] = (\n",
    "    (pivot_percent_clients[2025] - pivot_percent_clients[2024]) / pivot_percent_clients[2024]) * 100\n",
    "# Обчислення % зміни\n",
    "\n",
    "plt.figure(figsize=(12, 6))\n",
    "sns.barplot(\n",
    "    data=pivot_percent_clients,\n",
    "    x='місяць',\n",
    "    y='%_зміна',\n",
    "    hue='тип_клієнта',\n",
    "    palette='Set2'\n",
    ")\n",
    "# Побудова графіка\n",
    "\n",
    "\n",
    "plt.axhline(0, color='black', linestyle='--', linewidth=1)\n",
    "plt.title('% зміна ремонтів у 2025 відносно 2024 по типу клієнтів (січень–травень)', fontsize=13)\n",
    "plt.xlabel('Місяць')\n",
    "plt.ylabel('% зміна (2025 vs 2024)')\n",
    "plt.xticks([0, 1, 2, 3, 4], ['Січ', 'Лют', 'Бер', 'Кві', 'Тра'])\n",
    "plt.grid(axis='y', linestyle='--', alpha=0.5)\n",
    "plt.legend(title='Тип клієнта')\n",
    "plt.tight_layout()\n",
    "plt.show()\n",
    "# Оформлення"
   ]
  },
  {
   "cell_type": "markdown",
   "metadata": {},
   "source": [
    "Висновки за період січень–травень (2024 vs 2025):\n",
    " 1. Загальна динаміка ремонтів (Lineplot)\n",
    "У 2025 році загальна кількість ремонтів залишається нижчою, ніж у 2024 протягом більшості місяців.\n",
    "\n",
    "Виняток - січень, де відбулося суттєве зростання: +37,4%.\n",
    "\n",
    "Починаючи з лютого, тренд негативний, хоча у травні відхилення майже нівельоване (-1,8%).\n",
    "\n",
    " 2. Відсоткова зміна по місяцях (Barplot)\n",
    "Найбільше зростання відбулося у січні (+37,4%), ймовірно, завдяки відкладеним ремонтам після новорічних свят або зростанню попиту.\n",
    "\n",
    "З лютого по квітень - зниження кількості ремонтів на 10–17%, що може вказувати на:\n",
    "\n",
    "загальне падіння активності,\n",
    "\n",
    "зміну поведінки клієнтів (наприклад, збільшення термінів прийняття рішення),\n",
    "\n",
    "або внутрішні затримки в обробці заявок.\n",
    "\n",
    " 3. Порівняння B2B vs B2C\n",
    "B2B-сегмент (корпоративні клієнти) показав найбільше зростання у січні: +69,4%, що значно перевищує показники B2C (+34,8%).\n",
    "\n",
    "В лютому–квітні обидва сегменти мають негативну динаміку, але B2C просідає глибше, з піком падіння у квітні (-15,8%).\n",
    "\n",
    "У травні - стабілізація: обидва типи клієнтів виходять майже на рівень 2024 року (B2B: +2,5%, B2C: -0,8%)."
   ]
  },
  {
   "cell_type": "markdown",
   "metadata": {},
   "source": [
    "Сегмент B2B демонструє більшу стабільність і зростання в критичні місяці - варто інвестувати в корпоративні відносини, покращувати SLA та спрощувати процеси обслуговування.\n",
    "\n",
    "B2C-клієнти вразливіші до коливань і потребують окремих маркетингових ініціатив, особливо в міжсезоння (лютий–квітень).\n",
    "\n",
    "У 2025 році загальна кількість ремонтів трохи відстає від 2024, але тренд у травні демонструє потенціал на відновлення."
   ]
  },
  {
   "cell_type": "code",
   "execution_count": 40,
   "metadata": {},
   "outputs": [
    {
     "name": "stderr",
     "output_type": "stream",
     "text": [
      "/var/folders/5f/274n6vts5536glrl00ns70mw0000gn/T/ipykernel_20012/3450241749.py:1: SettingWithCopyWarning: \n",
      "A value is trying to be set on a copy of a slice from a DataFrame.\n",
      "Try using .loc[row_indexer,col_indexer] = value instead\n",
      "\n",
      "See the caveats in the documentation: https://pandas.pydata.org/pandas-docs/stable/user_guide/indexing.html#returning-a-view-versus-a-copy\n",
      "  ready_repairs.loc[:, 'тривалість_днів'] = (\n"
     ]
    }
   ],
   "source": [
    "ready_repairs.loc[:, 'тривалість_днів'] = (\n",
    "    ready_repairs['дата_видачі'] - ready_repairs['дата_створення']\n",
    ").dt.days"
   ]
  },
  {
   "cell_type": "code",
   "execution_count": 41,
   "metadata": {},
   "outputs": [],
   "source": [
    "avg_duration_by_service = (\n",
    "    ready_repairs\n",
    "    .groupby('послуга')['тривалість_днів']\n",
    "    .mean()\n",
    "    .reset_index()\n",
    "    .sort_values(by='тривалість_днів', ascending=False)\n",
    "    .round(2)\n",
    ")"
   ]
  },
  {
   "cell_type": "code",
   "execution_count": 56,
   "metadata": {},
   "outputs": [
    {
     "name": "stderr",
     "output_type": "stream",
     "text": [
      "/var/folders/5f/274n6vts5536glrl00ns70mw0000gn/T/ipykernel_20012/1356625552.py:2: FutureWarning: \n",
      "\n",
      "Passing `palette` without assigning `hue` is deprecated and will be removed in v0.14.0. Assign the `y` variable to `hue` and set `legend=False` for the same effect.\n",
      "\n",
      "  sns.barplot(\n"
     ]
    },
    {
     "data": {
      "image/png": "[encoded data removed]",
      "text/plain": [
       "<Figure size 1200x600 with 1 Axes>"
      ]
     },
     "metadata": {},
     "output_type": "display_data"
    }
   ],
   "source": [
    "\n",
    "plt.figure(figsize=(12, 6))\n",
    "sns.barplot(\n",
    "    data=avg_duration_by_service,\n",
    "    x='тривалість_днів',\n",
    "    y='послуга',\n",
    "    palette='viridis'\n",
    ")\n",
    "\n",
    "\n",
    "plt.title('Середній термін виконання ремонту по типу послуги (в днях)', fontsize=13)\n",
    "plt.xlabel('Середня тривалість (днів)')\n",
    "plt.ylabel('Тип послуги')\n",
    "plt.grid(axis='x', linestyle='--', alpha=0.3)\n",
    "plt.tight_layout()\n",
    "plt.show()"
   ]
  },
  {
   "cell_type": "code",
   "execution_count": 57,
   "metadata": {},
   "outputs": [
    {
     "data": {
      "image/png": "[encoded data removed]",
      "text/plain": [
       "<Figure size 1400x600 with 1 Axes>"
      ]
     },
     "metadata": {},
     "output_type": "display_data"
    }
   ],
   "source": [
    "avg_duration_by_service_client = (\n",
    "    ready_repairs\n",
    "    .groupby(['послуга', 'тип_клієнта'])['тривалість_днів']\n",
    "    .mean()\n",
    "    .reset_index()\n",
    "    .round(2)\n",
    "    .sort_values('тривалість_днів', ascending=False)\n",
    ")\n",
    "\n",
    "plt.figure(figsize=(14, 6))\n",
    "ax = sns.barplot(\n",
    "    data=avg_duration_by_service_client,\n",
    "    x='тривалість_днів',\n",
    "    y='послуга',\n",
    "    hue='тип_клієнта',\n",
    "    palette='Set2'\n",
    ")\n",
    "\n",
    "\n",
    "plt.title(\n",
    "    'Середній термін виконання ремонту по типу послуги та типу клієнта', fontsize=13)\n",
    "plt.xlabel('Середня тривалість (днів)')\n",
    "plt.ylabel('Тип послуги')\n",
    "plt.grid(axis='x', linestyle='--', alpha=0.3)\n",
    "plt.legend(title='Тип клієнта')\n",
    "plt.tight_layout()\n",
    "plt.show()"
   ]
  },
  {
   "cell_type": "markdown",
   "metadata": {},
   "source": [
    "**Висновки:** \n",
    "Аналіз середнього терміну виконання ремонту<br>\n",
    "Найдовше виконуються складні агрегатні ремонти:<br>\n",
    "ДВЗ, МКПП, паливна система, карданний вал - у середньому понад 15–20 днів;<br>\n",
    "Це обумовлено як складністю, так і логістикою запчастин або дефіцитом кадрів.<br>\n",
    "Швидко виконуються \"простий\" сервіс:<br>\n",
    "ТО, кондиціонери, воднева очистка - 1–3 дні, що відповідає очікуваному SLA.<br>\n",
    "Послуга \"Діагностика\" має аномально від'ємний термін виконання:<br>\n",
    "Це вказує на ймовірне порушення процесу закриття ремонтів у CRM.<br>\n",
    "Рекомендується детальніше перевірити протокол закриття таких угод - можливо, статус не оновлюється коректно.\n",
    "\n",
    "**Різниця між B2B і B2C:**\n",
    "\n",
    "Для деяких послуг (наприклад, \"Рульова рейка\", \"Турбіна\") термін виконання для B2B клієнтів суттєво більший.<br>\n",
    "Це може бути пов’язано з погодженнями, логістикою або менш пріоритетною обробкою таких заявок.<br>\n",
    "Водночас деякі послуги (наприклад, \"Інше\", \"Паливна\") - виконуються швидше для B2C.\n",
    "\n",
    "**Рекомендації:**\n",
    "Провести аудит CRM-процесів закриття ремонтів по \"Діагностиці\".<br>\n",
    "Проаналізувати внутрішні затримки по B2B-клієнтах - зокрема для ДВЗ, МКПП та \"Рульової рейки\".<br>\n",
    "Впровадити SLA-моніторинг з фокусом на послуги з перевищенням 10+ днів."
   ]
  },
  {
   "cell_type": "code",
   "execution_count": 44,
   "metadata": {},
   "outputs": [
    {
     "name": "stderr",
     "output_type": "stream",
     "text": [
      "/var/folders/5f/274n6vts5536glrl00ns70mw0000gn/T/ipykernel_20012/2160939521.py:9: FutureWarning: \n",
      "\n",
      "Passing `palette` without assigning `hue` is deprecated and will be removed in v0.14.0. Assign the `y` variable to `hue` and set `legend=False` for the same effect.\n",
      "\n",
      "  sns.boxplot(\n"
     ]
    },
    {
     "data": {
      "image/png": "[encoded data removed]",
      "text/plain": [
       "<Figure size 1400x600 with 1 Axes>"
      ]
     },
     "metadata": {},
     "output_type": "display_data"
    }
   ],
   "source": [
    "valid_services = (\n",
    "    ready_repairs\n",
    "    .groupby('послуга')\n",
    "    .filter(lambda x: len(x) > 50)\n",
    ")\n",
    "\n",
    "# Boxplot\n",
    "plt.figure(figsize=(14, 6))\n",
    "sns.boxplot(\n",
    "    data=valid_services,\n",
    "    x='тривалість_днів',\n",
    "    y='послуга',\n",
    "    palette='Spectral',\n",
    "    showfliers=False  # прибираємо викиди\n",
    ")\n",
    "\n",
    "plt.title('Розподіл тривалості ремонтів по послугах (без викидів)', fontsize=13)\n",
    "plt.xlabel('Тривалість ремонту (днів)')\n",
    "plt.ylabel('Тип послуги')\n",
    "plt.xlim(0, 60)  # обмеження масштабу\n",
    "plt.grid(axis='x', linestyle='--', alpha=0.3)\n",
    "plt.tight_layout()\n",
    "plt.show()"
   ]
  },
  {
   "cell_type": "markdown",
   "metadata": {},
   "source": [
    "### Аналіз розподілу тривалості ремонтів по послугах\n",
    "\n",
    "Boxplot-графік демонструє значну **варіативність часу виконання ремонтів** для більшості послуг, навіть після виключення викидів. Зокрема:\n",
    "\n",
    "- Для таких послуг, як **ДВЗ**, **Паливна**, **Карданний вал**, **Маховик**, **Турбіна**, спостерігається **широкий інтерквартильний розмах**, що свідчить про **нестабільність тривалості виконання**;\n",
    "- **Медіана** в деяких категоріях зміщена в бік одного з країв, що може свідчити про **наявність системних затримок**;\n",
    "- **Відсутність уніфікованих стандартів** у часі виконання схожих ремонтів може вказувати на **проблеми в процесах або управлінні**.\n",
    "\n",
    "**Висновок**: Розкид у даних свідчить про **відсутність чітко регламентованих процесів** та **варіативність якості менеджменту на СТО**. Це зона для оптимізації - запровадження стандартів SLA та контроль термінів може суттєво покращити ефективність та задоволеність клієнтів.\n"
   ]
  },
  {
   "cell_type": "code",
   "execution_count": null,
   "metadata": {},
   "outputs": [],
   "source": []
  }
 ],
 "metadata": {
  "kernelspec": {
   "display_name": "base",
   "language": "python",
   "name": "python3"
  },
  "language_info": {
   "codemirror_mode": {
    "name": "ipython",
    "version": 3
   },
   "file_extension": ".py",
   "mimetype": "text/x-python",
   "name": "python",
   "nbconvert_exporter": "python",
   "pygments_lexer": "ipython3",
   "version": "3.12.7"
  }
 },
 "nbformat": 4,
 "nbformat_minor": 2
}
